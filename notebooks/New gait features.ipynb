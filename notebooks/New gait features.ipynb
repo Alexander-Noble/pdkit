{
 "cells": [
  {
   "cell_type": "code",
   "execution_count": 1,
   "metadata": {},
   "outputs": [],
   "source": [
    "%matplotlib inline"
   ]
  },
  {
   "cell_type": "code",
   "execution_count": 75,
   "metadata": {},
   "outputs": [],
   "source": [
    "import matplotlib.pylab as plt\n",
    "import numpy as np\n",
    "from scipy.fftpack import rfft"
   ]
  },
  {
   "cell_type": "code",
   "execution_count": 161,
   "metadata": {},
   "outputs": [],
   "source": [
    "from pdkit.gait_time_series import GaitTimeSeries\n",
    "from pdkit.gait_processor import GaitProcessor\n",
    "from pdkit.utils import butter_lowpass_filter, crossings_nonzero_pos2neg"
   ]
  },
  {
   "cell_type": "code",
   "execution_count": 4,
   "metadata": {},
   "outputs": [],
   "source": [
    "ts = GaitTimeSeries.load_data('../tests/data/cloudupdrs_gait.csv')\n",
    "gp = GaitProcessor()"
   ]
  },
  {
   "cell_type": "code",
   "execution_count": 100,
   "metadata": {},
   "outputs": [
    {
     "data": {
      "text/html": [
       "<div>\n",
       "<style scoped>\n",
       "    .dataframe tbody tr th:only-of-type {\n",
       "        vertical-align: middle;\n",
       "    }\n",
       "\n",
       "    .dataframe tbody tr th {\n",
       "        vertical-align: top;\n",
       "    }\n",
       "\n",
       "    .dataframe thead th {\n",
       "        text-align: right;\n",
       "    }\n",
       "</style>\n",
       "<table border=\"1\" class=\"dataframe\">\n",
       "  <thead>\n",
       "    <tr style=\"text-align: right;\">\n",
       "      <th></th>\n",
       "      <th>td</th>\n",
       "      <th>x</th>\n",
       "      <th>y</th>\n",
       "      <th>z</th>\n",
       "      <th>mag_sum_acc</th>\n",
       "    </tr>\n",
       "  </thead>\n",
       "  <tbody>\n",
       "    <tr>\n",
       "      <th>1970-01-01 00:00:00.000000</th>\n",
       "      <td>0.000000</td>\n",
       "      <td>0.093432</td>\n",
       "      <td>0.694638</td>\n",
       "      <td>-0.299648</td>\n",
       "      <td>10.066663</td>\n",
       "    </tr>\n",
       "    <tr>\n",
       "      <th>1970-01-01 00:00:00.024536</th>\n",
       "      <td>0.024536</td>\n",
       "      <td>-0.056393</td>\n",
       "      <td>0.694638</td>\n",
       "      <td>-0.272407</td>\n",
       "      <td>9.916483</td>\n",
       "    </tr>\n",
       "    <tr>\n",
       "      <th>1970-01-01 00:00:00.042755</th>\n",
       "      <td>0.042755</td>\n",
       "      <td>-0.029152</td>\n",
       "      <td>0.653777</td>\n",
       "      <td>-0.272407</td>\n",
       "      <td>9.940876</td>\n",
       "    </tr>\n",
       "    <tr>\n",
       "      <th>1970-01-01 00:00:00.060761</th>\n",
       "      <td>0.060761</td>\n",
       "      <td>-0.029152</td>\n",
       "      <td>0.612916</td>\n",
       "      <td>-0.299648</td>\n",
       "      <td>9.939056</td>\n",
       "    </tr>\n",
       "    <tr>\n",
       "      <th>1970-01-01 00:00:00.078766</th>\n",
       "      <td>0.078766</td>\n",
       "      <td>-0.029152</td>\n",
       "      <td>0.612916</td>\n",
       "      <td>-0.231546</td>\n",
       "      <td>9.937236</td>\n",
       "    </tr>\n",
       "    <tr>\n",
       "      <th>1970-01-01 00:00:00.116150</th>\n",
       "      <td>0.116150</td>\n",
       "      <td>-0.029152</td>\n",
       "      <td>0.612916</td>\n",
       "      <td>-0.231546</td>\n",
       "      <td>9.937236</td>\n",
       "    </tr>\n",
       "    <tr>\n",
       "      <th>1970-01-01 00:00:00.135346</th>\n",
       "      <td>0.135346</td>\n",
       "      <td>-0.029152</td>\n",
       "      <td>0.572055</td>\n",
       "      <td>-0.272407</td>\n",
       "      <td>9.935836</td>\n",
       "    </tr>\n",
       "    <tr>\n",
       "      <th>1970-01-01 00:00:00.154053</th>\n",
       "      <td>0.154053</td>\n",
       "      <td>-0.029152</td>\n",
       "      <td>0.612916</td>\n",
       "      <td>-0.299648</td>\n",
       "      <td>9.939056</td>\n",
       "    </tr>\n",
       "    <tr>\n",
       "      <th>1970-01-01 00:00:00.192658</th>\n",
       "      <td>0.192658</td>\n",
       "      <td>-0.029152</td>\n",
       "      <td>0.612916</td>\n",
       "      <td>-0.299648</td>\n",
       "      <td>9.939056</td>\n",
       "    </tr>\n",
       "    <tr>\n",
       "      <th>1970-01-01 00:00:00.212067</th>\n",
       "      <td>0.212067</td>\n",
       "      <td>0.011709</td>\n",
       "      <td>0.612916</td>\n",
       "      <td>-0.272407</td>\n",
       "      <td>9.979040</td>\n",
       "    </tr>\n",
       "    <tr>\n",
       "      <th>1970-01-01 00:00:00.230286</th>\n",
       "      <td>0.230286</td>\n",
       "      <td>-0.029152</td>\n",
       "      <td>0.694638</td>\n",
       "      <td>-0.299648</td>\n",
       "      <td>9.944430</td>\n",
       "    </tr>\n",
       "    <tr>\n",
       "      <th>1970-01-01 00:00:00.249054</th>\n",
       "      <td>0.249054</td>\n",
       "      <td>-0.029152</td>\n",
       "      <td>0.694638</td>\n",
       "      <td>-0.340509</td>\n",
       "      <td>9.945745</td>\n",
       "    </tr>\n",
       "    <tr>\n",
       "      <th>1970-01-01 00:00:00.267731</th>\n",
       "      <td>0.267731</td>\n",
       "      <td>-0.029152</td>\n",
       "      <td>0.653777</td>\n",
       "      <td>-0.340509</td>\n",
       "      <td>9.942975</td>\n",
       "    </tr>\n",
       "    <tr>\n",
       "      <th>1970-01-01 00:00:00.285797</th>\n",
       "      <td>0.285797</td>\n",
       "      <td>-0.029152</td>\n",
       "      <td>0.653777</td>\n",
       "      <td>-0.340509</td>\n",
       "      <td>9.942975</td>\n",
       "    </tr>\n",
       "    <tr>\n",
       "      <th>1970-01-01 00:00:00.303955</th>\n",
       "      <td>0.303955</td>\n",
       "      <td>0.011709</td>\n",
       "      <td>0.612916</td>\n",
       "      <td>-0.299648</td>\n",
       "      <td>9.979821</td>\n",
       "    </tr>\n",
       "    <tr>\n",
       "      <th>1970-01-01 00:00:00.322998</th>\n",
       "      <td>0.322998</td>\n",
       "      <td>-0.029152</td>\n",
       "      <td>0.694638</td>\n",
       "      <td>-0.299648</td>\n",
       "      <td>9.944430</td>\n",
       "    </tr>\n",
       "    <tr>\n",
       "      <th>1970-01-01 00:00:00.341095</th>\n",
       "      <td>0.341095</td>\n",
       "      <td>-0.029152</td>\n",
       "      <td>0.694638</td>\n",
       "      <td>-0.299648</td>\n",
       "      <td>9.944430</td>\n",
       "    </tr>\n",
       "    <tr>\n",
       "      <th>1970-01-01 00:00:00.359253</th>\n",
       "      <td>0.359253</td>\n",
       "      <td>0.011709</td>\n",
       "      <td>0.694638</td>\n",
       "      <td>-0.381370</td>\n",
       "      <td>9.987960</td>\n",
       "    </tr>\n",
       "    <tr>\n",
       "      <th>1970-01-01 00:00:00.379181</th>\n",
       "      <td>0.379181</td>\n",
       "      <td>0.011709</td>\n",
       "      <td>0.694638</td>\n",
       "      <td>-0.381370</td>\n",
       "      <td>9.987960</td>\n",
       "    </tr>\n",
       "    <tr>\n",
       "      <th>1970-01-01 00:00:00.434265</th>\n",
       "      <td>0.434265</td>\n",
       "      <td>-0.029152</td>\n",
       "      <td>0.694638</td>\n",
       "      <td>-0.340509</td>\n",
       "      <td>9.945745</td>\n",
       "    </tr>\n",
       "    <tr>\n",
       "      <th>1970-01-01 00:00:00.455231</th>\n",
       "      <td>0.455231</td>\n",
       "      <td>0.011709</td>\n",
       "      <td>0.694638</td>\n",
       "      <td>-0.299648</td>\n",
       "      <td>9.985173</td>\n",
       "    </tr>\n",
       "    <tr>\n",
       "      <th>1970-01-01 00:00:00.475006</th>\n",
       "      <td>0.475006</td>\n",
       "      <td>-0.029152</td>\n",
       "      <td>0.653777</td>\n",
       "      <td>-0.272407</td>\n",
       "      <td>9.940876</td>\n",
       "    </tr>\n",
       "    <tr>\n",
       "      <th>1970-01-01 00:00:00.494324</th>\n",
       "      <td>0.494324</td>\n",
       "      <td>-0.029152</td>\n",
       "      <td>0.612916</td>\n",
       "      <td>-0.340509</td>\n",
       "      <td>9.940372</td>\n",
       "    </tr>\n",
       "    <tr>\n",
       "      <th>1970-01-01 00:00:00.513397</th>\n",
       "      <td>0.513397</td>\n",
       "      <td>-0.029152</td>\n",
       "      <td>0.612916</td>\n",
       "      <td>-0.340509</td>\n",
       "      <td>9.940372</td>\n",
       "    </tr>\n",
       "    <tr>\n",
       "      <th>1970-01-01 00:00:00.532837</th>\n",
       "      <td>0.532837</td>\n",
       "      <td>-0.056393</td>\n",
       "      <td>0.721878</td>\n",
       "      <td>-0.381370</td>\n",
       "      <td>9.922019</td>\n",
       "    </tr>\n",
       "    <tr>\n",
       "      <th>1970-01-01 00:00:00.552033</th>\n",
       "      <td>0.552033</td>\n",
       "      <td>-0.056393</td>\n",
       "      <td>0.721878</td>\n",
       "      <td>-0.299648</td>\n",
       "      <td>9.919214</td>\n",
       "    </tr>\n",
       "    <tr>\n",
       "      <th>1970-01-01 00:00:00.571015</th>\n",
       "      <td>0.571015</td>\n",
       "      <td>-0.056393</td>\n",
       "      <td>0.721878</td>\n",
       "      <td>-0.299648</td>\n",
       "      <td>9.919214</td>\n",
       "    </tr>\n",
       "    <tr>\n",
       "      <th>1970-01-01 00:00:00.590302</th>\n",
       "      <td>0.590302</td>\n",
       "      <td>-0.056393</td>\n",
       "      <td>0.694638</td>\n",
       "      <td>-0.299648</td>\n",
       "      <td>9.917268</td>\n",
       "    </tr>\n",
       "    <tr>\n",
       "      <th>1970-01-01 00:00:00.609436</th>\n",
       "      <td>0.609436</td>\n",
       "      <td>-0.029152</td>\n",
       "      <td>0.694638</td>\n",
       "      <td>-0.340509</td>\n",
       "      <td>9.945745</td>\n",
       "    </tr>\n",
       "    <tr>\n",
       "      <th>1970-01-01 00:00:00.629730</th>\n",
       "      <td>0.629730</td>\n",
       "      <td>-0.029152</td>\n",
       "      <td>0.694638</td>\n",
       "      <td>-0.340509</td>\n",
       "      <td>9.945745</td>\n",
       "    </tr>\n",
       "    <tr>\n",
       "      <th>...</th>\n",
       "      <td>...</td>\n",
       "      <td>...</td>\n",
       "      <td>...</td>\n",
       "      <td>...</td>\n",
       "      <td>...</td>\n",
       "    </tr>\n",
       "    <tr>\n",
       "      <th>1970-01-01 00:00:22.598480</th>\n",
       "      <td>22.598480</td>\n",
       "      <td>-0.056393</td>\n",
       "      <td>0.762740</td>\n",
       "      <td>-0.844462</td>\n",
       "      <td>9.953632</td>\n",
       "    </tr>\n",
       "    <tr>\n",
       "      <th>1970-01-01 00:00:22.617096</th>\n",
       "      <td>22.617096</td>\n",
       "      <td>0.011709</td>\n",
       "      <td>0.885323</td>\n",
       "      <td>-0.844462</td>\n",
       "      <td>10.031365</td>\n",
       "    </tr>\n",
       "    <tr>\n",
       "      <th>1970-01-01 00:00:22.637604</th>\n",
       "      <td>22.637604</td>\n",
       "      <td>-0.029152</td>\n",
       "      <td>0.885323</td>\n",
       "      <td>-0.803601</td>\n",
       "      <td>9.987440</td>\n",
       "    </tr>\n",
       "    <tr>\n",
       "      <th>1970-01-01 00:00:22.656067</th>\n",
       "      <td>22.656067</td>\n",
       "      <td>-0.056393</td>\n",
       "      <td>0.844462</td>\n",
       "      <td>-0.803601</td>\n",
       "      <td>9.956846</td>\n",
       "    </tr>\n",
       "    <tr>\n",
       "      <th>1970-01-01 00:00:22.674561</th>\n",
       "      <td>22.674561</td>\n",
       "      <td>-0.056393</td>\n",
       "      <td>0.803601</td>\n",
       "      <td>-0.803601</td>\n",
       "      <td>9.953464</td>\n",
       "    </tr>\n",
       "    <tr>\n",
       "      <th>1970-01-01 00:00:22.692993</th>\n",
       "      <td>22.692993</td>\n",
       "      <td>-0.029152</td>\n",
       "      <td>0.803601</td>\n",
       "      <td>-0.844462</td>\n",
       "      <td>9.983901</td>\n",
       "    </tr>\n",
       "    <tr>\n",
       "      <th>1970-01-01 00:00:22.711456</th>\n",
       "      <td>22.711456</td>\n",
       "      <td>0.052570</td>\n",
       "      <td>0.803601</td>\n",
       "      <td>-0.844462</td>\n",
       "      <td>10.065068</td>\n",
       "    </tr>\n",
       "    <tr>\n",
       "      <th>1970-01-01 00:00:22.729889</th>\n",
       "      <td>22.729889</td>\n",
       "      <td>0.052570</td>\n",
       "      <td>0.803601</td>\n",
       "      <td>-0.844462</td>\n",
       "      <td>10.065068</td>\n",
       "    </tr>\n",
       "    <tr>\n",
       "      <th>1970-01-01 00:00:22.749420</th>\n",
       "      <td>22.749420</td>\n",
       "      <td>0.052570</td>\n",
       "      <td>0.803601</td>\n",
       "      <td>-0.803601</td>\n",
       "      <td>10.061722</td>\n",
       "    </tr>\n",
       "    <tr>\n",
       "      <th>1970-01-01 00:00:22.770264</th>\n",
       "      <td>22.770264</td>\n",
       "      <td>-0.029152</td>\n",
       "      <td>0.694638</td>\n",
       "      <td>-0.762740</td>\n",
       "      <td>9.969136</td>\n",
       "    </tr>\n",
       "    <tr>\n",
       "      <th>1970-01-01 00:00:22.788849</th>\n",
       "      <td>22.788849</td>\n",
       "      <td>0.011709</td>\n",
       "      <td>0.694638</td>\n",
       "      <td>-0.762740</td>\n",
       "      <td>10.009779</td>\n",
       "    </tr>\n",
       "    <tr>\n",
       "      <th>1970-01-01 00:00:22.807282</th>\n",
       "      <td>22.807282</td>\n",
       "      <td>0.011709</td>\n",
       "      <td>0.694638</td>\n",
       "      <td>-0.844462</td>\n",
       "      <td>10.016337</td>\n",
       "    </tr>\n",
       "    <tr>\n",
       "      <th>1970-01-01 00:00:22.827667</th>\n",
       "      <td>22.827667</td>\n",
       "      <td>0.052570</td>\n",
       "      <td>0.721878</td>\n",
       "      <td>-0.844462</td>\n",
       "      <td>10.058873</td>\n",
       "    </tr>\n",
       "    <tr>\n",
       "      <th>1970-01-01 00:00:22.846100</th>\n",
       "      <td>22.846100</td>\n",
       "      <td>0.011709</td>\n",
       "      <td>0.721878</td>\n",
       "      <td>-0.803601</td>\n",
       "      <td>10.014902</td>\n",
       "    </tr>\n",
       "    <tr>\n",
       "      <th>1970-01-01 00:00:22.867645</th>\n",
       "      <td>22.867645</td>\n",
       "      <td>-0.029152</td>\n",
       "      <td>0.721878</td>\n",
       "      <td>-0.844462</td>\n",
       "      <td>9.977655</td>\n",
       "    </tr>\n",
       "    <tr>\n",
       "      <th>1970-01-01 00:00:22.891205</th>\n",
       "      <td>22.891205</td>\n",
       "      <td>-0.029152</td>\n",
       "      <td>0.721878</td>\n",
       "      <td>-0.803601</td>\n",
       "      <td>9.974280</td>\n",
       "    </tr>\n",
       "    <tr>\n",
       "      <th>1970-01-01 00:00:22.950134</th>\n",
       "      <td>22.950134</td>\n",
       "      <td>-0.029152</td>\n",
       "      <td>0.762740</td>\n",
       "      <td>-0.762740</td>\n",
       "      <td>9.974113</td>\n",
       "    </tr>\n",
       "    <tr>\n",
       "      <th>1970-01-01 00:00:22.974304</th>\n",
       "      <td>22.974304</td>\n",
       "      <td>-0.029152</td>\n",
       "      <td>0.762740</td>\n",
       "      <td>-0.762740</td>\n",
       "      <td>9.974113</td>\n",
       "    </tr>\n",
       "    <tr>\n",
       "      <th>1970-01-01 00:00:22.998383</th>\n",
       "      <td>22.998383</td>\n",
       "      <td>-0.029152</td>\n",
       "      <td>0.803601</td>\n",
       "      <td>-0.721878</td>\n",
       "      <td>9.974280</td>\n",
       "    </tr>\n",
       "    <tr>\n",
       "      <th>1970-01-01 00:00:23.019959</th>\n",
       "      <td>23.019959</td>\n",
       "      <td>-0.029152</td>\n",
       "      <td>0.721878</td>\n",
       "      <td>-0.721878</td>\n",
       "      <td>9.968029</td>\n",
       "    </tr>\n",
       "    <tr>\n",
       "      <th>1970-01-01 00:00:23.043549</th>\n",
       "      <td>23.043549</td>\n",
       "      <td>-0.029152</td>\n",
       "      <td>0.694638</td>\n",
       "      <td>-0.803601</td>\n",
       "      <td>9.972346</td>\n",
       "    </tr>\n",
       "    <tr>\n",
       "      <th>1970-01-01 00:00:23.064179</th>\n",
       "      <td>23.064179</td>\n",
       "      <td>-0.029152</td>\n",
       "      <td>0.653777</td>\n",
       "      <td>-0.803601</td>\n",
       "      <td>9.969583</td>\n",
       "    </tr>\n",
       "    <tr>\n",
       "      <th>1970-01-01 00:00:23.084748</th>\n",
       "      <td>23.084748</td>\n",
       "      <td>-0.029152</td>\n",
       "      <td>0.653777</td>\n",
       "      <td>-0.912563</td>\n",
       "      <td>9.978957</td>\n",
       "    </tr>\n",
       "    <tr>\n",
       "      <th>1970-01-01 00:00:23.109284</th>\n",
       "      <td>23.109284</td>\n",
       "      <td>-0.029152</td>\n",
       "      <td>0.653777</td>\n",
       "      <td>-0.885323</td>\n",
       "      <td>9.976502</td>\n",
       "    </tr>\n",
       "    <tr>\n",
       "      <th>1970-01-01 00:00:23.139588</th>\n",
       "      <td>23.139588</td>\n",
       "      <td>0.011709</td>\n",
       "      <td>0.694638</td>\n",
       "      <td>-0.762740</td>\n",
       "      <td>10.009779</td>\n",
       "    </tr>\n",
       "    <tr>\n",
       "      <th>1970-01-01 00:00:23.166962</th>\n",
       "      <td>23.166962</td>\n",
       "      <td>0.011709</td>\n",
       "      <td>0.694638</td>\n",
       "      <td>-0.762740</td>\n",
       "      <td>10.009779</td>\n",
       "    </tr>\n",
       "    <tr>\n",
       "      <th>1970-01-01 00:00:23.193787</th>\n",
       "      <td>23.193787</td>\n",
       "      <td>-0.056393</td>\n",
       "      <td>0.653777</td>\n",
       "      <td>-0.612916</td>\n",
       "      <td>9.928897</td>\n",
       "    </tr>\n",
       "    <tr>\n",
       "      <th>1970-01-01 00:00:23.217835</th>\n",
       "      <td>23.217835</td>\n",
       "      <td>-0.097254</td>\n",
       "      <td>0.694638</td>\n",
       "      <td>-0.531194</td>\n",
       "      <td>9.886261</td>\n",
       "    </tr>\n",
       "    <tr>\n",
       "      <th>1970-01-01 00:00:23.239197</th>\n",
       "      <td>23.239197</td>\n",
       "      <td>-0.056393</td>\n",
       "      <td>0.612916</td>\n",
       "      <td>-0.572055</td>\n",
       "      <td>9.923851</td>\n",
       "    </tr>\n",
       "    <tr>\n",
       "      <th>1970-01-01 00:00:23.262268</th>\n",
       "      <td>23.262268</td>\n",
       "      <td>-0.056393</td>\n",
       "      <td>0.612916</td>\n",
       "      <td>-0.572055</td>\n",
       "      <td>9.923851</td>\n",
       "    </tr>\n",
       "  </tbody>\n",
       "</table>\n",
       "<p>1126 rows × 5 columns</p>\n",
       "</div>"
      ],
      "text/plain": [
       "                                   td         x         y         z  \\\n",
       "1970-01-01 00:00:00.000000   0.000000  0.093432  0.694638 -0.299648   \n",
       "1970-01-01 00:00:00.024536   0.024536 -0.056393  0.694638 -0.272407   \n",
       "1970-01-01 00:00:00.042755   0.042755 -0.029152  0.653777 -0.272407   \n",
       "1970-01-01 00:00:00.060761   0.060761 -0.029152  0.612916 -0.299648   \n",
       "1970-01-01 00:00:00.078766   0.078766 -0.029152  0.612916 -0.231546   \n",
       "1970-01-01 00:00:00.116150   0.116150 -0.029152  0.612916 -0.231546   \n",
       "1970-01-01 00:00:00.135346   0.135346 -0.029152  0.572055 -0.272407   \n",
       "1970-01-01 00:00:00.154053   0.154053 -0.029152  0.612916 -0.299648   \n",
       "1970-01-01 00:00:00.192658   0.192658 -0.029152  0.612916 -0.299648   \n",
       "1970-01-01 00:00:00.212067   0.212067  0.011709  0.612916 -0.272407   \n",
       "1970-01-01 00:00:00.230286   0.230286 -0.029152  0.694638 -0.299648   \n",
       "1970-01-01 00:00:00.249054   0.249054 -0.029152  0.694638 -0.340509   \n",
       "1970-01-01 00:00:00.267731   0.267731 -0.029152  0.653777 -0.340509   \n",
       "1970-01-01 00:00:00.285797   0.285797 -0.029152  0.653777 -0.340509   \n",
       "1970-01-01 00:00:00.303955   0.303955  0.011709  0.612916 -0.299648   \n",
       "1970-01-01 00:00:00.322998   0.322998 -0.029152  0.694638 -0.299648   \n",
       "1970-01-01 00:00:00.341095   0.341095 -0.029152  0.694638 -0.299648   \n",
       "1970-01-01 00:00:00.359253   0.359253  0.011709  0.694638 -0.381370   \n",
       "1970-01-01 00:00:00.379181   0.379181  0.011709  0.694638 -0.381370   \n",
       "1970-01-01 00:00:00.434265   0.434265 -0.029152  0.694638 -0.340509   \n",
       "1970-01-01 00:00:00.455231   0.455231  0.011709  0.694638 -0.299648   \n",
       "1970-01-01 00:00:00.475006   0.475006 -0.029152  0.653777 -0.272407   \n",
       "1970-01-01 00:00:00.494324   0.494324 -0.029152  0.612916 -0.340509   \n",
       "1970-01-01 00:00:00.513397   0.513397 -0.029152  0.612916 -0.340509   \n",
       "1970-01-01 00:00:00.532837   0.532837 -0.056393  0.721878 -0.381370   \n",
       "1970-01-01 00:00:00.552033   0.552033 -0.056393  0.721878 -0.299648   \n",
       "1970-01-01 00:00:00.571015   0.571015 -0.056393  0.721878 -0.299648   \n",
       "1970-01-01 00:00:00.590302   0.590302 -0.056393  0.694638 -0.299648   \n",
       "1970-01-01 00:00:00.609436   0.609436 -0.029152  0.694638 -0.340509   \n",
       "1970-01-01 00:00:00.629730   0.629730 -0.029152  0.694638 -0.340509   \n",
       "...                               ...       ...       ...       ...   \n",
       "1970-01-01 00:00:22.598480  22.598480 -0.056393  0.762740 -0.844462   \n",
       "1970-01-01 00:00:22.617096  22.617096  0.011709  0.885323 -0.844462   \n",
       "1970-01-01 00:00:22.637604  22.637604 -0.029152  0.885323 -0.803601   \n",
       "1970-01-01 00:00:22.656067  22.656067 -0.056393  0.844462 -0.803601   \n",
       "1970-01-01 00:00:22.674561  22.674561 -0.056393  0.803601 -0.803601   \n",
       "1970-01-01 00:00:22.692993  22.692993 -0.029152  0.803601 -0.844462   \n",
       "1970-01-01 00:00:22.711456  22.711456  0.052570  0.803601 -0.844462   \n",
       "1970-01-01 00:00:22.729889  22.729889  0.052570  0.803601 -0.844462   \n",
       "1970-01-01 00:00:22.749420  22.749420  0.052570  0.803601 -0.803601   \n",
       "1970-01-01 00:00:22.770264  22.770264 -0.029152  0.694638 -0.762740   \n",
       "1970-01-01 00:00:22.788849  22.788849  0.011709  0.694638 -0.762740   \n",
       "1970-01-01 00:00:22.807282  22.807282  0.011709  0.694638 -0.844462   \n",
       "1970-01-01 00:00:22.827667  22.827667  0.052570  0.721878 -0.844462   \n",
       "1970-01-01 00:00:22.846100  22.846100  0.011709  0.721878 -0.803601   \n",
       "1970-01-01 00:00:22.867645  22.867645 -0.029152  0.721878 -0.844462   \n",
       "1970-01-01 00:00:22.891205  22.891205 -0.029152  0.721878 -0.803601   \n",
       "1970-01-01 00:00:22.950134  22.950134 -0.029152  0.762740 -0.762740   \n",
       "1970-01-01 00:00:22.974304  22.974304 -0.029152  0.762740 -0.762740   \n",
       "1970-01-01 00:00:22.998383  22.998383 -0.029152  0.803601 -0.721878   \n",
       "1970-01-01 00:00:23.019959  23.019959 -0.029152  0.721878 -0.721878   \n",
       "1970-01-01 00:00:23.043549  23.043549 -0.029152  0.694638 -0.803601   \n",
       "1970-01-01 00:00:23.064179  23.064179 -0.029152  0.653777 -0.803601   \n",
       "1970-01-01 00:00:23.084748  23.084748 -0.029152  0.653777 -0.912563   \n",
       "1970-01-01 00:00:23.109284  23.109284 -0.029152  0.653777 -0.885323   \n",
       "1970-01-01 00:00:23.139588  23.139588  0.011709  0.694638 -0.762740   \n",
       "1970-01-01 00:00:23.166962  23.166962  0.011709  0.694638 -0.762740   \n",
       "1970-01-01 00:00:23.193787  23.193787 -0.056393  0.653777 -0.612916   \n",
       "1970-01-01 00:00:23.217835  23.217835 -0.097254  0.694638 -0.531194   \n",
       "1970-01-01 00:00:23.239197  23.239197 -0.056393  0.612916 -0.572055   \n",
       "1970-01-01 00:00:23.262268  23.262268 -0.056393  0.612916 -0.572055   \n",
       "\n",
       "                            mag_sum_acc  \n",
       "1970-01-01 00:00:00.000000    10.066663  \n",
       "1970-01-01 00:00:00.024536     9.916483  \n",
       "1970-01-01 00:00:00.042755     9.940876  \n",
       "1970-01-01 00:00:00.060761     9.939056  \n",
       "1970-01-01 00:00:00.078766     9.937236  \n",
       "1970-01-01 00:00:00.116150     9.937236  \n",
       "1970-01-01 00:00:00.135346     9.935836  \n",
       "1970-01-01 00:00:00.154053     9.939056  \n",
       "1970-01-01 00:00:00.192658     9.939056  \n",
       "1970-01-01 00:00:00.212067     9.979040  \n",
       "1970-01-01 00:00:00.230286     9.944430  \n",
       "1970-01-01 00:00:00.249054     9.945745  \n",
       "1970-01-01 00:00:00.267731     9.942975  \n",
       "1970-01-01 00:00:00.285797     9.942975  \n",
       "1970-01-01 00:00:00.303955     9.979821  \n",
       "1970-01-01 00:00:00.322998     9.944430  \n",
       "1970-01-01 00:00:00.341095     9.944430  \n",
       "1970-01-01 00:00:00.359253     9.987960  \n",
       "1970-01-01 00:00:00.379181     9.987960  \n",
       "1970-01-01 00:00:00.434265     9.945745  \n",
       "1970-01-01 00:00:00.455231     9.985173  \n",
       "1970-01-01 00:00:00.475006     9.940876  \n",
       "1970-01-01 00:00:00.494324     9.940372  \n",
       "1970-01-01 00:00:00.513397     9.940372  \n",
       "1970-01-01 00:00:00.532837     9.922019  \n",
       "1970-01-01 00:00:00.552033     9.919214  \n",
       "1970-01-01 00:00:00.571015     9.919214  \n",
       "1970-01-01 00:00:00.590302     9.917268  \n",
       "1970-01-01 00:00:00.609436     9.945745  \n",
       "1970-01-01 00:00:00.629730     9.945745  \n",
       "...                                 ...  \n",
       "1970-01-01 00:00:22.598480     9.953632  \n",
       "1970-01-01 00:00:22.617096    10.031365  \n",
       "1970-01-01 00:00:22.637604     9.987440  \n",
       "1970-01-01 00:00:22.656067     9.956846  \n",
       "1970-01-01 00:00:22.674561     9.953464  \n",
       "1970-01-01 00:00:22.692993     9.983901  \n",
       "1970-01-01 00:00:22.711456    10.065068  \n",
       "1970-01-01 00:00:22.729889    10.065068  \n",
       "1970-01-01 00:00:22.749420    10.061722  \n",
       "1970-01-01 00:00:22.770264     9.969136  \n",
       "1970-01-01 00:00:22.788849    10.009779  \n",
       "1970-01-01 00:00:22.807282    10.016337  \n",
       "1970-01-01 00:00:22.827667    10.058873  \n",
       "1970-01-01 00:00:22.846100    10.014902  \n",
       "1970-01-01 00:00:22.867645     9.977655  \n",
       "1970-01-01 00:00:22.891205     9.974280  \n",
       "1970-01-01 00:00:22.950134     9.974113  \n",
       "1970-01-01 00:00:22.974304     9.974113  \n",
       "1970-01-01 00:00:22.998383     9.974280  \n",
       "1970-01-01 00:00:23.019959     9.968029  \n",
       "1970-01-01 00:00:23.043549     9.972346  \n",
       "1970-01-01 00:00:23.064179     9.969583  \n",
       "1970-01-01 00:00:23.084748     9.978957  \n",
       "1970-01-01 00:00:23.109284     9.976502  \n",
       "1970-01-01 00:00:23.139588    10.009779  \n",
       "1970-01-01 00:00:23.166962    10.009779  \n",
       "1970-01-01 00:00:23.193787     9.928897  \n",
       "1970-01-01 00:00:23.217835     9.886261  \n",
       "1970-01-01 00:00:23.239197     9.923851  \n",
       "1970-01-01 00:00:23.262268     9.923851  \n",
       "\n",
       "[1126 rows x 5 columns]"
      ]
     },
     "execution_count": 100,
     "metadata": {},
     "output_type": "execute_result"
    }
   ],
   "source": [
    "ts"
   ]
  },
  {
   "cell_type": "code",
   "execution_count": 6,
   "metadata": {},
   "outputs": [],
   "source": [
    "strikes, strike_i = gp.heel_strikes(ts.x)"
   ]
  },
  {
   "cell_type": "code",
   "execution_count": 64,
   "metadata": {},
   "outputs": [
    {
     "data": {
      "text/plain": [
       "1.0"
      ]
     },
     "execution_count": 64,
     "metadata": {},
     "output_type": "execute_result"
    }
   ],
   "source": [
    "walking = ts[strike_i[0]: strike_i[-1]]\n",
    "total_steps = len(walking)\n",
    "\n",
    "steps = []\n",
    "\n",
    "for z in range(len(strike_i) - 1):\n",
    "    steps.append([ts.x[strike_i[z]: strike_i[z+1]]])\n",
    "\n",
    "first_foot= [len(a[0]) for a in steps[::2]]\n",
    "second_foot = [len(a[0])  for a in steps[1::2]]\n",
    "\n",
    "first_sym = np.sum([a / total_steps for a in first_foot])\n",
    "second_sym = np.sum([a / total_steps for a in second_foot])\n",
    "\n",
    "np.sum(first_sym) + np.sum(second_sym)"
   ]
  },
  {
   "cell_type": "code",
   "execution_count": 67,
   "metadata": {},
   "outputs": [],
   "source": [
    "f_gi = [a / gp.sampling_frequency for a in first_foot]\n",
    "s_gi = [a / gp.sampling_frequency for a in second_foot]"
   ]
  },
  {
   "cell_type": "code",
   "execution_count": 72,
   "metadata": {},
   "outputs": [
    {
     "data": {
      "text/plain": [
       "0.2026696444350172"
      ]
     },
     "execution_count": 72,
     "metadata": {},
     "output_type": "execute_result"
    }
   ],
   "source": [
    "np.mean([np.std(f_gi), np.std(s_gi)])"
   ]
  },
  {
   "cell_type": "code",
   "execution_count": 78,
   "metadata": {},
   "outputs": [],
   "source": [
    "the_fft = np.fft.fft(ts.x)"
   ]
  },
  {
   "cell_type": "code",
   "execution_count": 83,
   "metadata": {},
   "outputs": [
    {
     "data": {
      "image/png": "[encoded data removed]",
      "text/plain": [
       "<Figure size 432x288 with 1 Axes>"
      ]
     },
     "metadata": {},
     "output_type": "display_data"
    },
    {
     "data": {
      "image/png": "[encoded data removed]",
      "text/plain": [
       "<Figure size 432x288 with 1 Axes>"
      ]
     },
     "metadata": {},
     "output_type": "display_data"
    }
   ],
   "source": [
    "y = ts.x\n",
    "Y    = np.fft.fft(y)\n",
    "freq = np.fft.fftfreq(len(y), 0.25)\n",
    "\n",
    "plt.figure()\n",
    "plt.plot( freq, np.abs(Y) )\n",
    "plt.figure()\n",
    "plt.plot(freq, np.angle(Y) )\n",
    "plt.show()"
   ]
  },
  {
   "cell_type": "code",
   "execution_count": 87,
   "metadata": {},
   "outputs": [
    {
     "name": "stderr",
     "output_type": "stream",
     "text": [
      "/home/c/lab/envs/pdkit/lib/python3.6/site-packages/numpy/lib/function_base.py:786: ComplexWarning: Casting complex values to real discards the imaginary part\n",
      "  tmp_a_data = tmp_a.astype(float)\n",
      "/home/c/lab/envs/pdkit/lib/python3.6/site-packages/numpy/lib/function_base.py:792: ComplexWarning: Casting complex values to real discards the imaginary part\n",
      "  indices = tmp_a.astype(np.intp)\n"
     ]
    }
   ],
   "source": [
    "h, e = np.histogram(Y, 100)"
   ]
  },
  {
   "cell_type": "code",
   "execution_count": 99,
   "metadata": {},
   "outputs": [
    {
     "data": {
      "text/plain": [
       "2.0765027322404372"
      ]
     },
     "execution_count": 99,
     "metadata": {},
     "output_type": "execute_result"
    }
   ],
   "source": [
    "np.sum(h[::2]) / np.sum(h[1::2])"
   ]
  },
  {
   "cell_type": "code",
   "execution_count": 102,
   "metadata": {},
   "outputs": [
    {
     "data": {
      "text/plain": [
       "3.2018112511728054"
      ]
     },
     "execution_count": 102,
     "metadata": {},
     "output_type": "execute_result"
    }
   ],
   "source": [
    "np.sqrt(np.mean(ts.mag_sum_acc))"
   ]
  },
  {
   "cell_type": "code",
   "execution_count": 107,
   "metadata": {},
   "outputs": [
    {
     "data": {
      "text/plain": [
       "[49, 51, 51, 32, 71, 99, 52]"
      ]
     },
     "execution_count": 107,
     "metadata": {},
     "output_type": "execute_result"
    }
   ],
   "source": [
    "first_foot"
   ]
  },
  {
   "cell_type": "code",
   "execution_count": 115,
   "metadata": {},
   "outputs": [],
   "source": [
    "first_strides = list(zip(first_foot[::2], first_foot[1::2]))\n",
    "second_strides = list(zip(second_foot[::2], second_foot[1::2]))\n",
    "\n",
    "first_str_duration = [np.sum(a) / gp.sampling_frequency for a in first_strides]\n",
    "second_str_duration = [np.sum(a) / gp.sampling_frequency for a in second_strides]"
   ]
  },
  {
   "cell_type": "code",
   "execution_count": 142,
   "metadata": {},
   "outputs": [
    {
     "data": {
      "text/plain": [
       "[<matplotlib.lines.Line2D at 0x7f61c3281b70>]"
      ]
     },
     "execution_count": 142,
     "metadata": {},
     "output_type": "execute_result"
    },
    {
     "data": {
      "image/png": "[encoded data removed]",
      "text/plain": [
       "<Figure size 432x288 with 1 Axes>"
      ]
     },
     "metadata": {},
     "output_type": "display_data"
    }
   ],
   "source": [
    "f_sig = butter_lowpass_filter(ts.y, 100, cutoff=2, order=5)\n",
    "\n",
    "top = [np.argmax(f_sig), f_sig[np.argmax(f_sig)]]\n",
    "bot = [np.argmin(f_sig), f_sig[np.argmin(f_sig)]]\n",
    "\n",
    "plt.plot(f_sig)\n",
    "plt.plot(top[0], top[1], 'go')\n",
    "plt.plot(bot[0], bot[1], 'ro')"
   ]
  },
  {
   "cell_type": "code",
   "execution_count": 143,
   "metadata": {},
   "outputs": [],
   "source": [
    "import scipy.signal as sig"
   ]
  },
  {
   "cell_type": "code",
   "execution_count": 196,
   "metadata": {},
   "outputs": [],
   "source": [
    "def start_end_turn(signal, freq=100):\n",
    "    \n",
    "    f_sig = butter_lowpass_filter(signal, freq, cutoff=2, order=5)\n",
    "\n",
    "    gt = sig.argrelextrema(f_sig, np.greater)[0]\n",
    "    lt = sig.argrelextrema(f_sig, np.less)[0]\n",
    "\n",
    "    end_turn = gt[np.argmax(f_sig[gt]) + 1]\n",
    "    start_turn = lt[np.argmin(f_sig[lt]) - 1]\n",
    "\n",
    "    plt.plot(f_sig)\n",
    "    plt.plot(start_turn, f_sig[start_turn], 'go')\n",
    "    plt.plot(end_turn, f_sig[end_turn], 'ro')\n",
    "    \n",
    "    return start_turn, end_turn"
   ]
  },
  {
   "cell_type": "code",
   "execution_count": 202,
   "metadata": {},
   "outputs": [
    {
     "data": {
      "image/png": "[encoded data removed]",
      "text/plain": [
       "<Figure size 432x288 with 1 Axes>"
      ]
     },
     "metadata": {},
     "output_type": "display_data"
    }
   ],
   "source": [
    "s_y, e_y = start_end_turn(ts.y)"
   ]
  },
  {
   "cell_type": "code",
   "execution_count": 203,
   "metadata": {},
   "outputs": [
    {
     "data": {
      "image/png": "[encoded data removed]",
      "text/plain": [
       "<Figure size 432x288 with 1 Axes>"
      ]
     },
     "metadata": {},
     "output_type": "display_data"
    }
   ],
   "source": [
    "s_z, e_z = start_end_turn(ts.z)"
   ]
  },
  {
   "cell_type": "code",
   "execution_count": 205,
   "metadata": {},
   "outputs": [
    {
     "data": {
      "text/plain": [
       "(461, 488)"
      ]
     },
     "execution_count": 205,
     "metadata": {},
     "output_type": "execute_result"
    }
   ],
   "source": []
  },
  {
   "cell_type": "code",
   "execution_count": null,
   "metadata": {},
   "outputs": [],
   "source": []
  },
  {
   "cell_type": "code",
   "execution_count": 201,
   "metadata": {},
   "outputs": [
    {
     "data": {
      "text/plain": [
       "[<matplotlib.lines.Line2D at 0x7f61c30eab38>]"
      ]
     },
     "execution_count": 201,
     "metadata": {},
     "output_type": "execute_result"
    },
    {
     "data": {
      "image/png": "[encoded data removed]",
      "text/plain": [
       "<Figure size 432x288 with 1 Axes>"
      ]
     },
     "metadata": {},
     "output_type": "display_data"
    }
   ],
   "source": [
    "plt.plot(ts.y.values)\n",
    "plt.plot(start_turn, ts.y[s], 'go')\n",
    "plt.plot(end_turn, ts.y[e], 'ro')"
   ]
  },
  {
   "cell_type": "code",
   "execution_count": 189,
   "metadata": {},
   "outputs": [
    {
     "data": {
      "text/plain": [
       "2.3018389"
      ]
     },
     "execution_count": 189,
     "metadata": {},
     "output_type": "execute_result"
    }
   ],
   "source": [
    "ts.y[start_turn]"
   ]
  }
 ],
 "metadata": {
  "kernelspec": {
   "display_name": "Python 3",
   "language": "python",
   "name": "python3"
  },
  "language_info": {
   "codemirror_mode": {
    "name": "ipython",
    "version": 3
   },
   "file_extension": ".py",
   "mimetype": "text/x-python",
   "name": "python",
   "nbconvert_exporter": "python",
   "pygments_lexer": "ipython3",
   "version": "3.6.5"
  }
 },
 "nbformat": 4,
 "nbformat_minor": 2
}
