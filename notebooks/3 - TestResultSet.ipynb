{
 "cells": [
  {
   "cell_type": "markdown",
   "metadata": {},
   "source": [
    "# Test Result Set"
   ]
  },
  {
   "cell_type": "code",
   "execution_count": 1,
   "metadata": {},
   "outputs": [
    {
     "name": "stderr",
     "output_type": "stream",
     "text": [
      "/Users/juansaez/Code/test_pdkit/lib/python3.6/site-packages/statsmodels/compat/pandas.py:56: FutureWarning: The pandas.core.datetools module is deprecated and will be removed in a future version. Please use the pandas.tseries module instead.\n",
      "  from pandas.core import datetools\n"
     ]
    }
   ],
   "source": [
    "#\n",
    "# Pdkit can be used to extract all the features for different measurements (i.e. tremor, finger tapping)\n",
    "# placed in a single folder. \n",
    "# The result is a data frame where the measurements are rows and the columns are the features extracted.\n",
    "#\n",
    "   \n",
    "import pdkit"
   ]
  },
  {
   "cell_type": "code",
   "execution_count": 2,
   "metadata": {},
   "outputs": [],
   "source": [
    "# folderpath is the path to the folder that contains all the data within folders\n",
    "folderpath = './data'\n",
    "# Let's create an instance to the TestResultSet\n",
    "testResultSet = pdkit.TestResultSet(folderpath)"
   ]
  },
  {
   "cell_type": "code",
   "execution_count": 3,
   "metadata": {},
   "outputs": [
    {
     "name": "stderr",
     "output_type": "stream",
     "text": [
      "100%|██████████| 2/2 [00:17<00:00,  8.93s/it]\n"
     ]
    }
   ],
   "source": [
    "# The process method will look up all the folders within folderpath\n",
    "# then get all the features for each test\n",
    "# NOTE: it might take a while! :)\n",
    "testResultSet.process()\n",
    "# the resulting dataframe with all the features processed is saved in testResultSet.features\n",
    "# features = testResultSet.features"
   ]
  },
  {
   "cell_type": "code",
   "execution_count": 4,
   "metadata": {},
   "outputs": [],
   "source": [
    "# testResultSet has a method to save the TestResultSet DataFrame to a filename\n",
    "testResultSet.write_output(filename='my_testResultSet')"
   ]
  },
  {
   "cell_type": "code",
   "execution_count": null,
   "metadata": {},
   "outputs": [],
   "source": []
  }
 ],
 "metadata": {
  "kernelspec": {
   "display_name": "Python 3",
   "language": "python",
   "name": "python3"
  },
  "language_info": {
   "codemirror_mode": {
    "name": "ipython",
    "version": 3
   },
   "file_extension": ".py",
   "mimetype": "text/x-python",
   "name": "python",
   "nbconvert_exporter": "python",
   "pygments_lexer": "ipython3",
   "version": "3.6.3"
  }
 },
 "nbformat": 4,
 "nbformat_minor": 2
}
