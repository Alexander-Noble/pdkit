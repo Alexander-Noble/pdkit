{
 "cells": [
  {
   "cell_type": "markdown",
   "metadata": {},
   "source": [
    "# Notebook to extract all Tremor features for a given folder"
   ]
  },
  {
   "cell_type": "code",
   "execution_count": 13,
   "metadata": {},
   "outputs": [],
   "source": [
    "import os\n",
    "from os import listdir\n",
    "from os.path import isfile, join\n",
    "\n",
    "import pdkit"
   ]
  },
  {
   "cell_type": "markdown",
   "metadata": {},
   "source": [
    "## the folder location and name\n",
    "- the folder data is located at './tests/data/S5/'\n",
    "- the files that contain tremor data start with 'T - ...'\n"
   ]
  },
  {
   "cell_type": "code",
   "execution_count": 14,
   "metadata": {},
   "outputs": [
    {
     "data": {
      "text/plain": [
       "'/Users/juansaez/Code/test_pdkit/tests/data/S5/'"
      ]
     },
     "execution_count": 14,
     "metadata": {},
     "output_type": "execute_result"
    }
   ],
   "source": [
    "pwd = os.getcwd()\n",
    "folder_path = pwd + '/tests/data/'\n",
    "folder_name = 'S5'\n",
    "measurement_type = 'tremor'\n",
    "abr_measurent_type = 'T'\n",
    "folder_path = folder_path + folder_name + '/'\n",
    "folder_path"
   ]
  },
  {
   "cell_type": "markdown",
   "metadata": {},
   "source": [
    "## Get the list of files in the given directory"
   ]
  },
  {
   "cell_type": "code",
   "execution_count": 15,
   "metadata": {},
   "outputs": [
    {
     "data": {
      "text/plain": [
       "['T - LEG AGILITY - RIGHT LEG - 2011-11-17 14-20-18.csv',\n",
       " 'T - LEG AGILITY - LEFT LEG - 2011-11-17 14-19-35.csv',\n",
       " 'T - POSTURAL TREMOR OF THE HANDS - LEFT HAND - 2011-11-17 14-12-30.csv',\n",
       " 'T - POSTURAL TREMOR OF THE HANDS - RIGHT HAND - 2011-11-17 14-13-25.csv',\n",
       " 'GAIT - 2011-11-17 14-35-51.csv',\n",
       " 'T - KINETIC TREMOR OF HANDS - RIGHT HAND - 2011-11-17 14-18-00.csv',\n",
       " 'T - PRONATION SUPINATION MOVEMENTS OF HANDS - RIGHT HAND - 2011-11-17 14-15-24.csv',\n",
       " 'T - REST TREMOR AMPLITUDE - RIGHT HAND - 2011-11-17 14-11-37.csv',\n",
       " 'FT - TWO TARGET - RIGHT_HAND 2011-11-17 14-25-18.csv',\n",
       " 'T - KINETIC TREMOR OF HANDS - LEFT HAND - 2011-11-17 14-17-21.csv',\n",
       " 'FT - TWO TARGET - LEFT_HAND 2011-11-17 14-23-59.csv',\n",
       " 'T - REST TREMOR AMPLITUDE - LEFT HAND - 2011-11-17 14-10-53.csv',\n",
       " 'FT - ONE TARGET - LEFT_HAND 2011-11-17 14-22-44.csv',\n",
       " 'S5_tremor.csv',\n",
       " 'FT - ONE TARGET - LEFT_HAND 2011-11-17 14-21-39.csv',\n",
       " 'T - PRONATION SUPINATION MOVEMENTS OF HANDS - LEFT HAND - 2011-11-17 14-14-23.csv']"
      ]
     },
     "execution_count": 15,
     "metadata": {},
     "output_type": "execute_result"
    }
   ],
   "source": [
    "fileslist = [f for f in os.listdir(folder_path) if isfile(join(folder_path, f))]\n",
    "fileslist"
   ]
  },
  {
   "cell_type": "markdown",
   "metadata": {},
   "source": [
    "## Do\n",
    "- loop over files\n",
    "- get the time series\n",
    "- extract the features \n",
    "- save to a file (name of folder)"
   ]
  },
  {
   "cell_type": "code",
   "execution_count": 16,
   "metadata": {},
   "outputs": [
    {
     "name": "stderr",
     "output_type": "stream",
     "text": [
      "100%|██████████| 16/16 [00:03<00:00,  4.88it/s]\n"
     ]
    }
   ],
   "source": [
    "tp = pdk.TremorProcessor()\n",
    "from tqdm import tqdm\n",
    "import csv\n",
    "\n",
    "filename = join(folder_path, \"_\".join([folder_name, measurement_type])+'.csv')\n",
    "\n",
    "for f in tqdm(fileslist):\n",
    "    if f.startswith( abr_measurent_type+' - ' ):\n",
    "        ts = pdk.TremorTimeSeries().load(join(folder_path,f))\n",
    "\n",
    "        features = tp.extract_features(ts)\n",
    "\n",
    "        file_exists = os.path.isfile(filename)\n",
    "        \n",
    "        with open (filename, 'a') as csvfile:\n",
    "            headers = list(features.keys())\n",
    "            writer = csv.DictWriter(csvfile, delimiter=',', lineterminator='\\n',fieldnames=headers)\n",
    "    \n",
    "            if not file_exists:\n",
    "                writer.writeheader()  # file doesn't exist yet, write a header\n",
    "            \n",
    "            writer.writerow(features)"
   ]
  },
  {
   "cell_type": "code",
   "execution_count": null,
   "metadata": {},
   "outputs": [],
   "source": []
  }
 ],
 "metadata": {
  "kernelspec": {
   "display_name": "Python 3",
   "language": "python",
   "name": "python3"
  },
  "language_info": {
   "codemirror_mode": {
    "name": "ipython",
    "version": 3
   },
   "file_extension": ".py",
   "mimetype": "text/x-python",
   "name": "python",
   "nbconvert_exporter": "python",
   "pygments_lexer": "ipython3",
   "version": "3.6.4"
  }
 },
 "nbformat": 4,
 "nbformat_minor": 2
}
